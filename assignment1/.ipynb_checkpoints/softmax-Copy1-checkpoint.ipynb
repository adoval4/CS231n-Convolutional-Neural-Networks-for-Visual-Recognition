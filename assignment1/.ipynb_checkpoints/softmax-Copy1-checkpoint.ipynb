{
 "cells": [
  {
   "cell_type": "markdown",
   "metadata": {},
   "source": [
    "# Softmax exercise\n",
    "\n",
    "*Complete and hand in this completed worksheet (including its outputs and any supporting code outside of the worksheet) with your assignment submission. For more details see the [assignments page](http://vision.stanford.edu/teaching/cs231n/assignments.html) on the course website.*\n",
    "\n",
    "This exercise is analogous to the SVM exercise. You will:\n",
    "\n",
    "- implement a fully-vectorized **loss function** for the Softmax classifier\n",
    "- implement the fully-vectorized expression for its **analytic gradient**\n",
    "- **check your implementation** with numerical gradient\n",
    "- use a validation set to **tune the learning rate and regularization** strength\n",
    "- **optimize** the loss function with **SGD**\n",
    "- **visualize** the final learned weights\n"
   ]
  },
  {
   "cell_type": "code",
   "execution_count": 1,
   "metadata": {
    "collapsed": false
   },
   "outputs": [],
   "source": [
    "import random\n",
    "import numpy as np\n",
    "from cs231n.data_utils import load_CIFAR10\n",
    "import matplotlib.pyplot as plt\n",
    "\n",
    "from __future__ import print_function\n",
    "\n",
    "%matplotlib inline\n",
    "plt.rcParams['figure.figsize'] = (10.0, 8.0) # set default size of plots\n",
    "plt.rcParams['image.interpolation'] = 'nearest'\n",
    "plt.rcParams['image.cmap'] = 'gray'\n",
    "\n",
    "# for auto-reloading extenrnal modules\n",
    "# see http://stackoverflow.com/questions/1907993/autoreload-of-modules-in-ipython\n",
    "%load_ext autoreload\n",
    "%autoreload 2"
   ]
  },
  {
   "cell_type": "code",
   "execution_count": 2,
   "metadata": {
    "collapsed": false
   },
   "outputs": [
    {
     "name": "stdout",
     "output_type": "stream",
     "text": [
      "Train data shape:  (49000, 3073)\n",
      "Train labels shape:  (49000,)\n",
      "Validation data shape:  (1000, 3073)\n",
      "Validation labels shape:  (1000,)\n",
      "Test data shape:  (1000, 3073)\n",
      "Test labels shape:  (1000,)\n",
      "dev data shape:  (500, 3073)\n",
      "dev labels shape:  (500,)\n"
     ]
    }
   ],
   "source": [
    "def get_CIFAR10_data(num_training=49000, num_validation=1000, num_test=1000, num_dev=500):\n",
    "    \"\"\"\n",
    "    Load the CIFAR-10 dataset from disk and perform preprocessing to prepare\n",
    "    it for the linear classifier. These are the same steps as we used for the\n",
    "    SVM, but condensed to a single function.  \n",
    "    \"\"\"\n",
    "    # Load the raw CIFAR-10 data\n",
    "    cifar10_dir = 'cs231n/datasets/cifar-10-batches-py'\n",
    "    X_train, y_train, X_test, y_test = load_CIFAR10(cifar10_dir)\n",
    "    \n",
    "    # subsample the data\n",
    "    mask = list(range(num_training, num_training + num_validation))\n",
    "    X_val = X_train[mask]\n",
    "    y_val = y_train[mask]\n",
    "    mask = list(range(num_training))\n",
    "    X_train = X_train[mask]\n",
    "    y_train = y_train[mask]\n",
    "    mask = list(range(num_test))\n",
    "    X_test = X_test[mask]\n",
    "    y_test = y_test[mask]\n",
    "    mask = np.random.choice(num_training, num_dev, replace=False)\n",
    "    X_dev = X_train[mask]\n",
    "    y_dev = y_train[mask]\n",
    "    \n",
    "    # Preprocessing: reshape the image data into rows\n",
    "    X_train = np.reshape(X_train, (X_train.shape[0], -1))\n",
    "    X_val = np.reshape(X_val, (X_val.shape[0], -1))\n",
    "    X_test = np.reshape(X_test, (X_test.shape[0], -1))\n",
    "    X_dev = np.reshape(X_dev, (X_dev.shape[0], -1))\n",
    "    \n",
    "    # Normalize the data: subtract the mean image\n",
    "    mean_image = np.mean(X_train, axis = 0)\n",
    "    X_train -= mean_image\n",
    "    X_val -= mean_image\n",
    "    X_test -= mean_image\n",
    "    X_dev -= mean_image\n",
    "    \n",
    "    # add bias dimension and transform into columns\n",
    "    X_train = np.hstack([X_train, np.ones((X_train.shape[0], 1))])\n",
    "    X_val = np.hstack([X_val, np.ones((X_val.shape[0], 1))])\n",
    "    X_test = np.hstack([X_test, np.ones((X_test.shape[0], 1))])\n",
    "    X_dev = np.hstack([X_dev, np.ones((X_dev.shape[0], 1))])\n",
    "    \n",
    "    return X_train, y_train, X_val, y_val, X_test, y_test, X_dev, y_dev\n",
    "\n",
    "\n",
    "# Invoke the above function to get our data.\n",
    "X_train, y_train, X_val, y_val, X_test, y_test, X_dev, y_dev = get_CIFAR10_data()\n",
    "print('Train data shape: ', X_train.shape)\n",
    "print('Train labels shape: ', y_train.shape)\n",
    "print('Validation data shape: ', X_val.shape)\n",
    "print('Validation labels shape: ', y_val.shape)\n",
    "print('Test data shape: ', X_test.shape)\n",
    "print('Test labels shape: ', y_test.shape)\n",
    "print('dev data shape: ', X_dev.shape)\n",
    "print('dev labels shape: ', y_dev.shape)"
   ]
  },
  {
   "cell_type": "markdown",
   "metadata": {},
   "source": [
    "## Softmax Classifier\n",
    "\n",
    "Your code for this section will all be written inside **cs231n/classifiers/softmax.py**. \n"
   ]
  },
  {
   "cell_type": "code",
   "execution_count": 3,
   "metadata": {
    "collapsed": false
   },
   "outputs": [
    {
     "name": "stdout",
     "output_type": "stream",
     "text": [
      "loss: 2.326717\n",
      "sanity check: 2.302585\n"
     ]
    }
   ],
   "source": [
    "# First implement the naive softmax loss function with nested loops.\n",
    "# Open the file cs231n/classifiers/softmax.py and implement the\n",
    "# softmax_loss_naive function.\n",
    "\n",
    "from cs231n.classifiers.softmax import softmax_loss_naive\n",
    "import time\n",
    "\n",
    "# Generate a random softmax weight matrix and use it to compute the loss.\n",
    "W = np.random.randn(3073, 10) * 0.0001\n",
    "loss, grad = softmax_loss_naive(W, X_dev, y_dev, 0.0)\n",
    "\n",
    "# As a rough sanity check, our loss should be something close to -log(0.1).\n",
    "print('loss: %f' % loss)\n",
    "print('sanity check: %f' % (-np.log(0.1)))"
   ]
  },
  {
   "cell_type": "markdown",
   "metadata": {},
   "source": [
    "## Inline Question 1:\n",
    "Why do we expect our loss to be close to -log(0.1)? Explain briefly.**\n",
    "\n",
    "**Your answer:**\n",
    "\n",
    "Li = - log(exp(score_correct_clas)) + log(sum(exp(scores)))\n",
    "\n",
    "Due to the initialization of the weigths as random small numbers. Then before training, all scores will be small (aprox 0) => exp(score) ~ exp(0) = 1\n",
    "\n",
    "Then Li ~ -log(1) + log(sum(1)) = -log(1) + log(N * 1) = -log(1/N)\n",
    "\n",
    "cause N = 10 for this dataset, then:\n",
    "\n",
    "Li ~ -log(0.1)\n"
   ]
  },
  {
   "cell_type": "code",
   "execution_count": 5,
   "metadata": {
    "collapsed": false
   },
   "outputs": [
    {
     "name": "stdout",
     "output_type": "stream",
     "text": [
      "numerical: 0.756488 analytic: 0.756488, relative error: 5.265072e-08\n",
      "numerical: 1.751249 analytic: 1.751248, relative error: 4.149862e-08\n",
      "numerical: -0.314345 analytic: -0.314345, relative error: 2.057795e-07\n",
      "numerical: -2.578465 analytic: -2.578465, relative error: 1.800632e-08\n",
      "numerical: -2.395955 analytic: -2.395955, relative error: 2.655700e-08\n",
      "numerical: -0.426474 analytic: -0.426474, relative error: 1.039131e-08\n",
      "numerical: 1.728627 analytic: 1.728627, relative error: 3.740172e-08\n",
      "numerical: -0.016104 analytic: -0.016104, relative error: 4.332432e-06\n",
      "numerical: 0.176004 analytic: 0.176004, relative error: 1.055469e-07\n",
      "numerical: -0.155547 analytic: -0.155547, relative error: 5.270425e-07\n",
      "numerical: 1.910335 analytic: 1.910335, relative error: 3.308961e-08\n",
      "numerical: -0.500777 analytic: -0.500777, relative error: 6.678370e-08\n",
      "numerical: -0.955090 analytic: -0.955090, relative error: 1.260553e-08\n",
      "numerical: -4.158901 analytic: -4.158901, relative error: 9.110198e-10\n",
      "numerical: 2.059992 analytic: 2.059992, relative error: 2.337756e-08\n",
      "numerical: 2.024161 analytic: 2.024161, relative error: 2.158391e-08\n",
      "numerical: 0.177091 analytic: 0.177091, relative error: 2.892058e-07\n",
      "numerical: 1.895835 analytic: 1.895834, relative error: 4.004244e-08\n",
      "numerical: 2.934700 analytic: 2.934700, relative error: 2.224293e-08\n",
      "numerical: -2.212506 analytic: -2.212506, relative error: 1.136539e-08\n"
     ]
    }
   ],
   "source": [
    "# Complete the implementation of softmax_loss_naive and implement a (naive)\n",
    "# version of the gradient that uses nested loops.\n",
    "loss, grad = softmax_loss_naive(W, X_dev, y_dev, 0.0)\n",
    "\n",
    "# As we did for the SVM, use numeric gradient checking as a debugging tool.\n",
    "# The numeric gradient should be close to the analytic gradient.\n",
    "from cs231n.gradient_check import grad_check_sparse\n",
    "f = lambda w: softmax_loss_naive(w, X_dev, y_dev, 0.0)[0]\n",
    "grad_numerical = grad_check_sparse(f, W, grad, 10)\n",
    "\n",
    "# similar to SVM case, do another gradient check with regularization\n",
    "loss, grad = softmax_loss_naive(W, X_dev, y_dev, 5e1)\n",
    "f = lambda w: softmax_loss_naive(w, X_dev, y_dev, 5e1)[0]\n",
    "grad_numerical = grad_check_sparse(f, W, grad, 10)"
   ]
  },
  {
   "cell_type": "code",
   "execution_count": 24,
   "metadata": {
    "collapsed": false
   },
   "outputs": [
    {
     "name": "stdout",
     "output_type": "stream",
     "text": [
      "naive loss: 2.326717e+00 computed in 0.094306s\n",
      "vectorized loss: 2.326717e+00 computed in 0.006612s\n",
      "Loss difference: 0.000000\n",
      "Gradient difference: 0.000000\n"
     ]
    }
   ],
   "source": [
    "# Now that we have a naive implementation of the softmax loss function and its gradient,\n",
    "# implement a vectorized version in softmax_loss_vectorized.\n",
    "# The two versions should compute the same results, but the vectorized version should be\n",
    "# much faster.\n",
    "tic = time.time()\n",
    "loss_naive, grad_naive = softmax_loss_naive(W, X_dev, y_dev, 0.000005)\n",
    "toc = time.time()\n",
    "print('naive loss: %e computed in %fs' % (loss_naive, toc - tic))\n",
    "\n",
    "from cs231n.classifiers.softmax import softmax_loss_vectorized\n",
    "tic = time.time()\n",
    "loss_vectorized, grad_vectorized = softmax_loss_vectorized(W, X_dev, y_dev, 0.000005)\n",
    "toc = time.time()\n",
    "print('vectorized loss: %e computed in %fs' % (loss_vectorized, toc - tic))\n",
    "\n",
    "# As we did for the SVM, we use the Frobenius norm to compare the two versions\n",
    "# of the gradient.\n",
    "grad_difference = np.linalg.norm(grad_naive - grad_vectorized, ord='fro')\n",
    "print('Loss difference: %f' % np.abs(loss_naive - loss_vectorized))\n",
    "print('Gradient difference: %f' % grad_difference)"
   ]
  },
  {
   "cell_type": "code",
   "execution_count": 26,
   "metadata": {
    "collapsed": false
   },
   "outputs": [
    {
     "name": "stdout",
     "output_type": "stream",
     "text": [
      "lr 1.000000e-07 reg 2.500000e+04\n",
      "iteration 0 / 1500: loss 393.996267\n",
      "iteration 100 / 1500: loss 238.260319\n",
      "iteration 200 / 1500: loss 144.809321\n",
      "iteration 300 / 1500: loss 88.395121\n",
      "iteration 400 / 1500: loss 54.197346\n",
      "iteration 500 / 1500: loss 33.684012\n",
      "iteration 600 / 1500: loss 21.149490\n",
      "iteration 700 / 1500: loss 13.642487\n",
      "iteration 800 / 1500: loss 8.928265\n",
      "iteration 900 / 1500: loss 6.228673\n",
      "iteration 1000 / 1500: loss 4.633183\n",
      "iteration 1100 / 1500: loss 3.520387\n",
      "iteration 1200 / 1500: loss 2.851469\n",
      "iteration 1300 / 1500: loss 2.588929\n",
      "iteration 1400 / 1500: loss 2.388112\n",
      "lr 1.000000e-07 reg 5.000000e+04\n",
      "iteration 0 / 1500: loss 760.919423\n",
      "iteration 100 / 1500: loss 279.408699\n",
      "iteration 200 / 1500: loss 103.468286\n",
      "iteration 300 / 1500: loss 39.302918\n",
      "iteration 400 / 1500: loss 15.637425\n",
      "iteration 500 / 1500: loss 7.022820\n",
      "iteration 600 / 1500: loss 3.950831\n",
      "iteration 700 / 1500: loss 2.718425\n",
      "iteration 800 / 1500: loss 2.315851\n",
      "iteration 900 / 1500: loss 2.190705\n",
      "iteration 1000 / 1500: loss 2.110462\n",
      "iteration 1100 / 1500: loss 2.114975\n",
      "iteration 1200 / 1500: loss 2.061360\n",
      "iteration 1300 / 1500: loss 2.100923\n",
      "iteration 1400 / 1500: loss 2.060520\n",
      "lr 5.000000e-07 reg 2.500000e+04\n",
      "iteration 0 / 1500: loss 389.619798\n",
      "iteration 100 / 1500: loss 32.793209\n",
      "iteration 200 / 1500: loss 4.571619\n",
      "iteration 300 / 1500: loss 2.180365\n",
      "iteration 400 / 1500: loss 2.062704\n",
      "iteration 500 / 1500: loss 2.022470\n",
      "iteration 600 / 1500: loss 2.055917\n",
      "iteration 700 / 1500: loss 1.999937\n",
      "iteration 800 / 1500: loss 2.045360\n",
      "iteration 900 / 1500: loss 2.055707\n",
      "iteration 1000 / 1500: loss 2.027883\n",
      "iteration 1100 / 1500: loss 1.949703\n",
      "iteration 1200 / 1500: loss 1.998631\n",
      "iteration 1300 / 1500: loss 2.035855\n",
      "iteration 1400 / 1500: loss 2.055365\n",
      "lr 5.000000e-07 reg 5.000000e+04\n",
      "iteration 0 / 1500: loss 785.001654\n",
      "iteration 100 / 1500: loss 6.903411\n",
      "iteration 200 / 1500: loss 2.095120\n",
      "iteration 300 / 1500: loss 2.042767\n",
      "iteration 400 / 1500: loss 2.155742\n",
      "iteration 500 / 1500: loss 2.129736\n",
      "iteration 600 / 1500: loss 2.138862\n",
      "iteration 700 / 1500: loss 2.089008\n",
      "iteration 800 / 1500: loss 2.126733\n",
      "iteration 900 / 1500: loss 2.142357\n",
      "iteration 1000 / 1500: loss 2.038453\n",
      "iteration 1100 / 1500: loss 2.114189\n",
      "iteration 1200 / 1500: loss 2.107008\n",
      "iteration 1300 / 1500: loss 2.054642\n",
      "iteration 1400 / 1500: loss 2.081005\n",
      "lr 1.000000e-07 reg 2.500000e+04 train accuracy: 0.349673 val accuracy: 0.360000\n",
      "lr 1.000000e-07 reg 5.000000e+04 train accuracy: 0.330367 val accuracy: 0.343000\n",
      "lr 5.000000e-07 reg 2.500000e+04 train accuracy: 0.349510 val accuracy: 0.363000\n",
      "lr 5.000000e-07 reg 5.000000e+04 train accuracy: 0.329388 val accuracy: 0.335000\n",
      "best validation accuracy achieved during cross-validation: 0.363000\n"
     ]
    }
   ],
   "source": [
    "# Use the validation set to tune hyperparameters (regularization strength and\n",
    "# learning rate). You should experiment with different ranges for the learning\n",
    "# rates and regularization strengths; if you are careful you should be able to\n",
    "# get a classification accuracy of over 0.35 on the validation set.\n",
    "from cs231n.classifiers import Softmax\n",
    "results = {}\n",
    "best_val = -1\n",
    "best_softmax = None\n",
    "learning_rates = [1e-7, 5e-7]\n",
    "regularization_strengths = [2.5e4, 5e4]\n",
    "\n",
    "################################################################################\n",
    "# TODO:                                                                        #\n",
    "# Use the validation set to set the learning rate and regularization strength. #\n",
    "# This should be identical to the validation that you did for the SVM; save    #\n",
    "# the best trained softmax classifer in best_softmax.                          #\n",
    "################################################################################\n",
    "for learning_rate in learning_rates:\n",
    "    for reg in regularization_strengths:\n",
    "    \n",
    "        print('lr %e reg %e' % (\n",
    "                learning_rate, reg,))\n",
    "    \n",
    "        softmax = Softmax()\n",
    "        tic = time.time()\n",
    "        loss_hist = softmax.train(X_train, y_train, learning_rate=learning_rate, reg=reg,\n",
    "                              num_iters=1500, verbose=True)\n",
    "        \n",
    "        y_train_pred = softmax.predict(X_train)\n",
    "        y_val_pred = softmax.predict(X_val)\n",
    "        \n",
    "        accuracy_train = np.mean(y_train == y_train_pred)\n",
    "        accuracy_val = np.mean(y_val == y_val_pred)\n",
    "        \n",
    "        results[(learning_rate, reg)] = (accuracy_train, accuracy_val)\n",
    "                                 \n",
    "        if best_val < accuracy_val:\n",
    "            best_val = accuracy_val\n",
    "            best_softmax = softmax\n",
    "################################################################################\n",
    "#                              END OF YOUR CODE                                #\n",
    "################################################################################\n",
    "    \n",
    "# Print out results.\n",
    "for lr, reg in sorted(results):\n",
    "    train_accuracy, val_accuracy = results[(lr, reg)]\n",
    "    print('lr %e reg %e train accuracy: %f val accuracy: %f' % (\n",
    "                lr, reg, train_accuracy, val_accuracy))\n",
    "    \n",
    "print('best validation accuracy achieved during cross-validation: %f' % best_val)"
   ]
  },
  {
   "cell_type": "code",
   "execution_count": 27,
   "metadata": {
    "collapsed": false
   },
   "outputs": [
    {
     "name": "stdout",
     "output_type": "stream",
     "text": [
      "softmax on raw pixels final test set accuracy: 0.367000\n"
     ]
    }
   ],
   "source": [
    "# evaluate on test set\n",
    "# Evaluate the best softmax on test set\n",
    "y_test_pred = best_softmax.predict(X_test)\n",
    "test_accuracy = np.mean(y_test == y_test_pred)\n",
    "print('softmax on raw pixels final test set accuracy: %f' % (test_accuracy, ))"
   ]
  },
  {
   "cell_type": "code",
   "execution_count": 28,
   "metadata": {
    "collapsed": false
   },
   "outputs": [
    {
     "data": {
      "image/png": "[encoded data removed]",
      "text/plain": [
       "<matplotlib.figure.Figure at 0x11ba1aa90>"
      ]
     },
     "metadata": {},
     "output_type": "display_data"
    }
   ],
   "source": [
    "# Visualize the learned weights for each class\n",
    "w = best_softmax.W[:-1,:] # strip out the bias\n",
    "w = w.reshape(32, 32, 3, 10)\n",
    "\n",
    "w_min, w_max = np.min(w), np.max(w)\n",
    "\n",
    "classes = ['plane', 'car', 'bird', 'cat', 'deer', 'dog', 'frog', 'horse', 'ship', 'truck']\n",
    "for i in range(10):\n",
    "    plt.subplot(2, 5, i + 1)\n",
    "    \n",
    "    # Rescale the weights to be between 0 and 255\n",
    "    wimg = 255.0 * (w[:, :, :, i].squeeze() - w_min) / (w_max - w_min)\n",
    "    plt.imshow(wimg.astype('uint8'))\n",
    "    plt.axis('off')\n",
    "    plt.title(classes[i])"
   ]
  },
  {
   "cell_type": "code",
   "execution_count": null,
   "metadata": {
    "collapsed": true
   },
   "outputs": [],
   "source": []
  }
 ],
 "metadata": {
  "kernelspec": {
   "display_name": "Python 2",
   "language": "python",
   "name": "python2"
  },
  "language_info": {
   "codemirror_mode": {
    "name": "ipython",
    "version": 2
   },
   "file_extension": ".py",
   "mimetype": "text/x-python",
   "name": "python",
   "nbconvert_exporter": "python",
   "pygments_lexer": "ipython2",
   "version": "2.7.14"
  }
 },
 "nbformat": 4,
 "nbformat_minor": 0
}
